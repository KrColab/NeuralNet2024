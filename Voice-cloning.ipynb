{
  "nbformat": 4,
  "nbformat_minor": 0,
  "metadata": {
    "colab": {
      "provenance": []
    },
    "kernelspec": {
      "name": "python3",
      "display_name": "Python 3"
    },
    "language_info": {
      "name": "python"
    }
  },
  "cells": [
    {
      "cell_type": "code",
      "source": [
        "!git clone https://github.com/CorentinJ/Real-Time-Voice-Cloning.git"
      ],
      "metadata": {
        "colab": {
          "base_uri": "https://localhost:8080/"
        },
        "id": "bwslMIYEOlTO",
        "outputId": "5c6dbe26-fd91-4ccf-f129-e5e77959244e"
      },
      "execution_count": null,
      "outputs": [
        {
          "output_type": "stream",
          "name": "stdout",
          "text": [
            "Cloning into 'Real-Time-Voice-Cloning'...\n",
            "remote: Enumerating objects: 2671, done.\u001b[K\n",
            "remote: Counting objects: 100% (3/3), done.\u001b[K\n",
            "remote: Compressing objects: 100% (3/3), done.\u001b[K\n",
            "remote: Total 2671 (delta 0), reused 1 (delta 0), pack-reused 2668\u001b[K\n",
            "Receiving objects: 100% (2671/2671), 361.01 MiB | 31.48 MiB/s, done.\n",
            "Resolving deltas: 100% (1435/1435), done.\n"
          ]
        }
      ]
    },
    {
      "cell_type": "code",
      "execution_count": null,
      "metadata": {
        "id": "x3ai_vsuLvhG",
        "colab": {
          "base_uri": "https://localhost:8080/"
        },
        "outputId": "9f0dbcdb-9c9f-4ea8-d7aa-f6221ac7c982"
      },
      "outputs": [
        {
          "output_type": "stream",
          "name": "stdout",
          "text": [
            "Reading package lists... Done\n",
            "Building dependency tree... Done\n",
            "Reading state information... Done\n",
            "python3.7 is already the newest version (3.7.17-1+jammy1).\n",
            "0 upgraded, 0 newly installed, 0 to remove and 38 not upgraded.\n",
            "Requirement already satisfied: numpy in /usr/local/lib/python3.10/dist-packages (1.25.2)\n",
            "Requirement already satisfied: torch in /usr/local/lib/python3.10/dist-packages (2.1.0+cu121)\n",
            "Requirement already satisfied: torchvision in /usr/local/lib/python3.10/dist-packages (0.16.0+cu121)\n",
            "Requirement already satisfied: filelock in /usr/local/lib/python3.10/dist-packages (from torch) (3.13.1)\n",
            "Requirement already satisfied: typing-extensions in /usr/local/lib/python3.10/dist-packages (from torch) (4.10.0)\n",
            "Requirement already satisfied: sympy in /usr/local/lib/python3.10/dist-packages (from torch) (1.12)\n",
            "Requirement already satisfied: networkx in /usr/local/lib/python3.10/dist-packages (from torch) (3.2.1)\n",
            "Requirement already satisfied: jinja2 in /usr/local/lib/python3.10/dist-packages (from torch) (3.1.3)\n",
            "Requirement already satisfied: fsspec in /usr/local/lib/python3.10/dist-packages (from torch) (2023.6.0)\n",
            "Requirement already satisfied: triton==2.1.0 in /usr/local/lib/python3.10/dist-packages (from torch) (2.1.0)\n",
            "Requirement already satisfied: numpy in /usr/local/lib/python3.10/dist-packages (from torchvision) (1.25.2)\n",
            "Requirement already satisfied: requests in /usr/local/lib/python3.10/dist-packages (from torchvision) (2.31.0)\n",
            "Requirement already satisfied: pillow!=8.3.*,>=5.3.0 in /usr/local/lib/python3.10/dist-packages (from torchvision) (9.4.0)\n",
            "Requirement already satisfied: MarkupSafe>=2.0 in /usr/local/lib/python3.10/dist-packages (from jinja2->torch) (2.1.5)\n",
            "Requirement already satisfied: charset-normalizer<4,>=2 in /usr/local/lib/python3.10/dist-packages (from requests->torchvision) (3.3.2)\n",
            "Requirement already satisfied: idna<4,>=2.5 in /usr/local/lib/python3.10/dist-packages (from requests->torchvision) (3.6)\n",
            "Requirement already satisfied: urllib3<3,>=1.21.1 in /usr/local/lib/python3.10/dist-packages (from requests->torchvision) (2.0.7)\n",
            "Requirement already satisfied: certifi>=2017.4.17 in /usr/local/lib/python3.10/dist-packages (from requests->torchvision) (2024.2.2)\n",
            "Requirement already satisfied: mpmath>=0.19 in /usr/local/lib/python3.10/dist-packages (from sympy->torch) (1.3.0)\n"
          ]
        }
      ],
      "source": [
        "!sudo apt-get install python3.7\n",
        "!pip3 install numpy\n",
        "!pip3 install torch torchvision"
      ]
    },
    {
      "cell_type": "code",
      "source": [
        "!git clone https://git.ffmpeg.org/ffmpeg.git ffmpeg"
      ],
      "metadata": {
        "colab": {
          "base_uri": "https://localhost:8080/"
        },
        "id": "dZ7hSlrsQ7mK",
        "outputId": "c2114a5a-afe1-4bfb-84e7-b5300ed0f364"
      },
      "execution_count": null,
      "outputs": [
        {
          "output_type": "stream",
          "name": "stdout",
          "text": [
            "fatal: destination path 'ffmpeg' already exists and is not an empty directory.\n"
          ]
        }
      ]
    },
    {
      "cell_type": "code",
      "source": [
        "!pip3 install wheel setuptools pip --upgrade"
      ],
      "metadata": {
        "colab": {
          "base_uri": "https://localhost:8080/"
        },
        "id": "sqCjLOBNSKyG",
        "outputId": "e6b9d9d5-b7f1-4b95-d3b2-af4decd9b0b3"
      },
      "execution_count": null,
      "outputs": [
        {
          "output_type": "stream",
          "name": "stdout",
          "text": [
            "Requirement already satisfied: wheel in /usr/local/lib/python3.10/dist-packages (0.43.0)\n",
            "Requirement already satisfied: setuptools in /usr/local/lib/python3.10/dist-packages (69.1.1)\n",
            "Requirement already satisfied: pip in /usr/local/lib/python3.10/dist-packages (24.0)\n",
            "\u001b[33mWARNING: Running pip as the 'root' user can result in broken permissions and conflicting behaviour with the system package manager. It is recommended to use a virtual environment instead: https://pip.pypa.io/warnings/venv\u001b[0m\u001b[33m\n",
            "\u001b[0m"
          ]
        }
      ]
    },
    {
      "cell_type": "code",
      "source": [
        "!pip install -r /content/Real-Time-Voice-Cloning/requirements.txt"
      ],
      "metadata": {
        "colab": {
          "base_uri": "https://localhost:8080/"
        },
        "id": "r71etfexRBE0",
        "outputId": "6b30c32b-8b86-43b8-8dd2-e44caf94b438"
      },
      "execution_count": 46,
      "outputs": [
        {
          "output_type": "stream",
          "name": "stdout",
          "text": [
            "Requirement already satisfied: inflect==5.3.0 in /usr/local/lib/python3.10/dist-packages (from -r /content/Real-Time-Voice-Cloning/requirements.txt (line 1)) (5.3.0)\n",
            "Requirement already satisfied: librosa==0.8.1 in /usr/local/lib/python3.10/dist-packages (from -r /content/Real-Time-Voice-Cloning/requirements.txt (line 2)) (0.8.1)\n",
            "Requirement already satisfied: matplotlib==3.5.1 in /usr/local/lib/python3.10/dist-packages (from -r /content/Real-Time-Voice-Cloning/requirements.txt (line 3)) (3.5.1)\n",
            "Requirement already satisfied: numpy in /usr/local/lib/python3.10/dist-packages (from -r /content/Real-Time-Voice-Cloning/requirements.txt (line 4)) (1.22.4)\n",
            "Requirement already satisfied: Pillow==8.4.0 in /usr/local/lib/python3.10/dist-packages (from -r /content/Real-Time-Voice-Cloning/requirements.txt (line 5)) (8.4.0)\n",
            "Requirement already satisfied: PyQt5==5.15.6 in /usr/local/lib/python3.10/dist-packages (from -r /content/Real-Time-Voice-Cloning/requirements.txt (line 6)) (5.15.6)\n",
            "Requirement already satisfied: scikit-learn==1.0.2 in /usr/local/lib/python3.10/dist-packages (from -r /content/Real-Time-Voice-Cloning/requirements.txt (line 7)) (1.0.2)\n",
            "Requirement already satisfied: scipy==1.7.3 in /usr/local/lib/python3.10/dist-packages (from -r /content/Real-Time-Voice-Cloning/requirements.txt (line 8)) (1.7.3)\n",
            "Requirement already satisfied: sounddevice==0.4.3 in /usr/local/lib/python3.10/dist-packages (from -r /content/Real-Time-Voice-Cloning/requirements.txt (line 9)) (0.4.3)\n",
            "Requirement already satisfied: SoundFile==0.10.3.post1 in /usr/local/lib/python3.10/dist-packages (from -r /content/Real-Time-Voice-Cloning/requirements.txt (line 10)) (0.10.3.post1)\n",
            "Requirement already satisfied: tqdm==4.62.3 in /usr/local/lib/python3.10/dist-packages (from -r /content/Real-Time-Voice-Cloning/requirements.txt (line 11)) (4.62.3)\n",
            "Requirement already satisfied: umap-learn==0.5.2 in /usr/local/lib/python3.10/dist-packages (from -r /content/Real-Time-Voice-Cloning/requirements.txt (line 12)) (0.5.2)\n",
            "Requirement already satisfied: Unidecode==1.3.2 in /usr/local/lib/python3.10/dist-packages (from -r /content/Real-Time-Voice-Cloning/requirements.txt (line 13)) (1.3.2)\n",
            "Requirement already satisfied: urllib3==1.26.7 in /usr/local/lib/python3.10/dist-packages (from -r /content/Real-Time-Voice-Cloning/requirements.txt (line 14)) (1.26.7)\n",
            "Requirement already satisfied: visdom==0.1.8.9 in /usr/local/lib/python3.10/dist-packages (from -r /content/Real-Time-Voice-Cloning/requirements.txt (line 15)) (0.1.8.9)\n",
            "Requirement already satisfied: webrtcvad==2.0.10 in /usr/local/lib/python3.10/dist-packages (from -r /content/Real-Time-Voice-Cloning/requirements.txt (line 16)) (2.0.10)\n",
            "Requirement already satisfied: audioread>=2.0.0 in /usr/local/lib/python3.10/dist-packages (from librosa==0.8.1->-r /content/Real-Time-Voice-Cloning/requirements.txt (line 2)) (3.0.1)\n",
            "Requirement already satisfied: joblib>=0.14 in /usr/local/lib/python3.10/dist-packages (from librosa==0.8.1->-r /content/Real-Time-Voice-Cloning/requirements.txt (line 2)) (1.3.2)\n",
            "Requirement already satisfied: decorator>=3.0.0 in /usr/local/lib/python3.10/dist-packages (from librosa==0.8.1->-r /content/Real-Time-Voice-Cloning/requirements.txt (line 2)) (4.4.2)\n",
            "Requirement already satisfied: resampy>=0.2.2 in /usr/local/lib/python3.10/dist-packages (from librosa==0.8.1->-r /content/Real-Time-Voice-Cloning/requirements.txt (line 2)) (0.4.3)\n",
            "Requirement already satisfied: numba>=0.43.0 in /usr/local/lib/python3.10/dist-packages (from librosa==0.8.1->-r /content/Real-Time-Voice-Cloning/requirements.txt (line 2)) (0.58.1)\n",
            "Requirement already satisfied: pooch>=1.0 in /usr/local/lib/python3.10/dist-packages (from librosa==0.8.1->-r /content/Real-Time-Voice-Cloning/requirements.txt (line 2)) (1.8.1)\n",
            "Requirement already satisfied: packaging>=20.0 in /usr/local/lib/python3.10/dist-packages (from librosa==0.8.1->-r /content/Real-Time-Voice-Cloning/requirements.txt (line 2)) (23.2)\n",
            "Requirement already satisfied: cycler>=0.10 in /usr/local/lib/python3.10/dist-packages (from matplotlib==3.5.1->-r /content/Real-Time-Voice-Cloning/requirements.txt (line 3)) (0.12.1)\n",
            "Requirement already satisfied: fonttools>=4.22.0 in /usr/local/lib/python3.10/dist-packages (from matplotlib==3.5.1->-r /content/Real-Time-Voice-Cloning/requirements.txt (line 3)) (4.49.0)\n",
            "Requirement already satisfied: kiwisolver>=1.0.1 in /usr/local/lib/python3.10/dist-packages (from matplotlib==3.5.1->-r /content/Real-Time-Voice-Cloning/requirements.txt (line 3)) (1.4.5)\n",
            "Requirement already satisfied: pyparsing>=2.2.1 in /usr/local/lib/python3.10/dist-packages (from matplotlib==3.5.1->-r /content/Real-Time-Voice-Cloning/requirements.txt (line 3)) (3.1.2)\n",
            "Requirement already satisfied: python-dateutil>=2.7 in /usr/local/lib/python3.10/dist-packages (from matplotlib==3.5.1->-r /content/Real-Time-Voice-Cloning/requirements.txt (line 3)) (2.8.2)\n",
            "Requirement already satisfied: PyQt5-sip<13,>=12.8 in /usr/local/lib/python3.10/dist-packages (from PyQt5==5.15.6->-r /content/Real-Time-Voice-Cloning/requirements.txt (line 6)) (12.13.0)\n",
            "Requirement already satisfied: PyQt5-Qt5>=5.15.2 in /usr/local/lib/python3.10/dist-packages (from PyQt5==5.15.6->-r /content/Real-Time-Voice-Cloning/requirements.txt (line 6)) (5.15.2)\n",
            "Requirement already satisfied: threadpoolctl>=2.0.0 in /usr/local/lib/python3.10/dist-packages (from scikit-learn==1.0.2->-r /content/Real-Time-Voice-Cloning/requirements.txt (line 7)) (3.3.0)\n",
            "Requirement already satisfied: CFFI>=1.0 in /usr/local/lib/python3.10/dist-packages (from sounddevice==0.4.3->-r /content/Real-Time-Voice-Cloning/requirements.txt (line 9)) (1.16.0)\n",
            "Requirement already satisfied: pynndescent>=0.5 in /usr/local/lib/python3.10/dist-packages (from umap-learn==0.5.2->-r /content/Real-Time-Voice-Cloning/requirements.txt (line 12)) (0.5.11)\n",
            "Requirement already satisfied: requests in /usr/local/lib/python3.10/dist-packages (from visdom==0.1.8.9->-r /content/Real-Time-Voice-Cloning/requirements.txt (line 15)) (2.31.0)\n",
            "Requirement already satisfied: tornado in /usr/local/lib/python3.10/dist-packages (from visdom==0.1.8.9->-r /content/Real-Time-Voice-Cloning/requirements.txt (line 15)) (6.3.3)\n",
            "Requirement already satisfied: pyzmq in /usr/local/lib/python3.10/dist-packages (from visdom==0.1.8.9->-r /content/Real-Time-Voice-Cloning/requirements.txt (line 15)) (23.2.1)\n",
            "Requirement already satisfied: six in /usr/local/lib/python3.10/dist-packages (from visdom==0.1.8.9->-r /content/Real-Time-Voice-Cloning/requirements.txt (line 15)) (1.16.0)\n",
            "Requirement already satisfied: jsonpatch in /usr/local/lib/python3.10/dist-packages (from visdom==0.1.8.9->-r /content/Real-Time-Voice-Cloning/requirements.txt (line 15)) (1.33)\n",
            "Requirement already satisfied: torchfile in /usr/local/lib/python3.10/dist-packages (from visdom==0.1.8.9->-r /content/Real-Time-Voice-Cloning/requirements.txt (line 15)) (0.1.0)\n",
            "Requirement already satisfied: websocket-client in /usr/local/lib/python3.10/dist-packages (from visdom==0.1.8.9->-r /content/Real-Time-Voice-Cloning/requirements.txt (line 15)) (1.7.0)\n",
            "Requirement already satisfied: pycparser in /usr/local/lib/python3.10/dist-packages (from CFFI>=1.0->sounddevice==0.4.3->-r /content/Real-Time-Voice-Cloning/requirements.txt (line 9)) (2.21)\n",
            "Requirement already satisfied: llvmlite<0.42,>=0.41.0dev0 in /usr/local/lib/python3.10/dist-packages (from numba>=0.43.0->librosa==0.8.1->-r /content/Real-Time-Voice-Cloning/requirements.txt (line 2)) (0.41.1)\n",
            "Requirement already satisfied: platformdirs>=2.5.0 in /usr/local/lib/python3.10/dist-packages (from pooch>=1.0->librosa==0.8.1->-r /content/Real-Time-Voice-Cloning/requirements.txt (line 2)) (4.2.0)\n",
            "Requirement already satisfied: charset-normalizer<4,>=2 in /usr/local/lib/python3.10/dist-packages (from requests->visdom==0.1.8.9->-r /content/Real-Time-Voice-Cloning/requirements.txt (line 15)) (3.3.2)\n",
            "Requirement already satisfied: idna<4,>=2.5 in /usr/local/lib/python3.10/dist-packages (from requests->visdom==0.1.8.9->-r /content/Real-Time-Voice-Cloning/requirements.txt (line 15)) (3.6)\n",
            "Requirement already satisfied: certifi>=2017.4.17 in /usr/local/lib/python3.10/dist-packages (from requests->visdom==0.1.8.9->-r /content/Real-Time-Voice-Cloning/requirements.txt (line 15)) (2024.2.2)\n",
            "Requirement already satisfied: jsonpointer>=1.9 in /usr/local/lib/python3.10/dist-packages (from jsonpatch->visdom==0.1.8.9->-r /content/Real-Time-Voice-Cloning/requirements.txt (line 15)) (2.4)\n",
            "\u001b[33mWARNING: Running pip as the 'root' user can result in broken permissions and conflicting behaviour with the system package manager. It is recommended to use a virtual environment instead: https://pip.pypa.io/warnings/venv\u001b[0m\u001b[33m\n",
            "\u001b[0m"
          ]
        }
      ]
    },
    {
      "cell_type": "code",
      "source": [
        "!python /content/Real-Time-Voice-Cloning/demo_cli.py"
      ],
      "metadata": {
        "colab": {
          "base_uri": "https://localhost:8080/"
        },
        "id": "D0v2ftaTYAAx",
        "outputId": "c923e01f-8961-4bfe-ce59-bb8630ac7958"
      },
      "execution_count": 64,
      "outputs": [
        {
          "output_type": "stream",
          "name": "stdout",
          "text": [
            "Arguments:\n",
            "    enc_model_fpath:   saved_models/default/encoder.pt\n",
            "    syn_model_fpath:   saved_models/default/synthesizer.pt\n",
            "    voc_model_fpath:   saved_models/default/vocoder.pt\n",
            "    cpu:               False\n",
            "    no_sound:          False\n",
            "    seed:              None\n",
            "\n",
            "Running a test of your configuration...\n",
            "\n",
            "Using CPU for inference.\n",
            "\n",
            "Preparing the encoder, the synthesizer and the vocoder...\n",
            "Loaded encoder \"encoder.pt\" trained to step 1564501\n",
            "Synthesizer using device: cpu\n",
            "Building Wave-RNN\n",
            "Trainable Parameters: 4.481M\n",
            "Loading model weights at saved_models/default/vocoder.pt\n",
            "Testing your configuration with small inputs.\n",
            "\tTesting the encoder...\n",
            "\tTesting the synthesizer... (loading the model will output a lot of text)\n",
            "Trainable Parameters: 30.870M\n",
            "Loaded synthesizer \"synthesizer.pt\" trained to step 295000\n",
            "\n",
            "| Generating 1/1\n",
            "\n",
            "\n",
            "Done.\n",
            "\n",
            "\tTesting the vocoder...\n",
            "All test passed! You can now synthesize speech.\n",
            "\n",
            "\n",
            "This is a GUI-less example of interface to SV2TTS. The purpose of this script is to show how you can interface this project easily with your own. See the source code for an explanation of what is happening.\n",
            "\n",
            "Interactive generation loop\n",
            "Reference voice: enter an audio filepath of a voice to be cloned (mp3, wav, m4a, flac, ...):\n",
            "Traceback (most recent call last):\n",
            "  File \"/content/Real-Time-Voice-Cloning/demo_cli.py\", line 126, in <module>\n",
            "    in_fpath = Path(input(message).replace(\"\\\"\", \"\").replace(\"\\'\", \"\"))\n",
            "KeyboardInterrupt\n",
            "^C\n"
          ]
        }
      ]
    }
  ]
}